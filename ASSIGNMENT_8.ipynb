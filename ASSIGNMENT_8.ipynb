{
  "nbformat": 4,
  "nbformat_minor": 0,
  "metadata": {
    "colab": {
      "provenance": []
    },
    "kernelspec": {
      "name": "python3",
      "display_name": "Python 3"
    },
    "language_info": {
      "name": "python"
    }
  },
  "cells": [
    {
      "cell_type": "code",
      "execution_count": 13,
      "metadata": {
        "colab": {
          "base_uri": "https://localhost:8080/"
        },
        "id": "CzeGeDZaQ0Yv",
        "outputId": "fbcee4c9-24aa-4232-95b0-e1587e92f254"
      },
      "outputs": [
        {
          "output_type": "stream",
          "name": "stdout",
          "text": [
            "Collecting en-core-web-sm==3.8.0\n",
            "  Downloading https://github.com/explosion/spacy-models/releases/download/en_core_web_sm-3.8.0/en_core_web_sm-3.8.0-py3-none-any.whl (12.8 MB)\n",
            "\u001b[2K     \u001b[90m━━━━━━━━━━━━━━━━━━━━━━━━━━━━━━━━━━━━━━━━\u001b[0m \u001b[32m12.8/12.8 MB\u001b[0m \u001b[31m94.7 MB/s\u001b[0m eta \u001b[36m0:00:00\u001b[0m\n",
            "\u001b[?25h\u001b[38;5;2m✔ Download and installation successful\u001b[0m\n",
            "You can now load the package via spacy.load('en_core_web_sm')\n",
            "\u001b[38;5;3m⚠ Restart to reload dependencies\u001b[0m\n",
            "If you are in a Jupyter or Colab notebook, you may need to restart Python in\n",
            "order to load all the package's dependencies. You can do this by selecting the\n",
            "'Restart kernel' or 'Restart runtime' option.\n"
          ]
        },
        {
          "output_type": "stream",
          "name": "stderr",
          "text": [
            "[nltk_data] Downloading package punkt to /content/nltk_data...\n",
            "[nltk_data]   Package punkt is already up-to-date!\n",
            "[nltk_data] Downloading package stopwords to /content/nltk_data...\n",
            "[nltk_data]   Package stopwords is already up-to-date!\n",
            "[nltk_data] Downloading package wordnet to /content/nltk_data...\n",
            "[nltk_data]   Package wordnet is already up-to-date!\n",
            "[nltk_data] Downloading package averaged_perceptron_tagger_eng to\n",
            "[nltk_data]     /content/nltk_data...\n",
            "[nltk_data]   Unzipping taggers/averaged_perceptron_tagger_eng.zip.\n"
          ]
        }
      ],
      "source": [
        "# Step 0: Install and Import Libraries\n",
        "!pip install nltk spacy --quiet\n",
        "!python -m spacy download en_core_web_sm\n",
        "\n",
        "import nltk\n",
        "nltk.download('punkt')\n",
        "nltk.download('stopwords')\n",
        "nltk.download('wordnet')\n",
        "nltk.download('averaged_perceptron_tagger')\n",
        "nltk.download('punkt_tab') # Add this line to download the missing resource\n",
        "\n",
        "import re\n",
        "import string\n",
        "import matplotlib.pyplot as plt\n",
        "from collections import Counter\n",
        "\n",
        "from nltk.tokenize import word_tokenize, sent_tokenize\n",
        "from nltk.corpus import stopwords\n",
        "from nltk.stem import PorterStemmer, WordNetLemmatizer\n",
        "import spacy\n",
        "from spacy import displacy"
      ]
    },
    {
      "cell_type": "code",
      "source": [
        "#sample paragraph\n",
        "text = \"\"\"\n",
        "Elon Musk, the CEO of Tesla and SpaceX, visited India in March 2025 to explore investment opportunities.\n",
        "During his trip, he met with Prime Minister Narendra Modi to discuss potential collaborations in clean energy and satellite technology.\n",
        "\"\"\"\n"
      ],
      "metadata": {
        "id": "oXFvpllURYxE"
      },
      "execution_count": 2,
      "outputs": []
    },
    {
      "cell_type": "code",
      "source": [
        "def clean_text(text):\n",
        "    text = text.lower()\n",
        "    text = re.sub(r'\\d+', '', text)\n",
        "    text = text.translate(str.maketrans('', '', string.punctuation))\n",
        "    text = re.sub(r'\\s+', ' ', text).strip()\n",
        "    return text\n",
        "\n",
        "cleaned_text = clean_text(text)\n",
        "print(\"Cleaned Text:\\n\", cleaned_text)\n"
      ],
      "metadata": {
        "colab": {
          "base_uri": "https://localhost:8080/"
        },
        "id": "aAG4b9UAReVw",
        "outputId": "9fafb2da-f9f1-446b-8d3a-35f12f72c81e"
      },
      "execution_count": 3,
      "outputs": [
        {
          "output_type": "stream",
          "name": "stdout",
          "text": [
            "Cleaned Text:\n",
            " elon musk the ceo of tesla and spacex visited india in march to explore investment opportunities during his trip he met with prime minister narendra modi to discuss potential collaborations in clean energy and satellite technology\n"
          ]
        }
      ]
    },
    {
      "cell_type": "code",
      "source": [
        "sentences = sent_tokenize(cleaned_text)\n",
        "words = word_tokenize(cleaned_text)\n",
        "\n",
        "print(\"\\nTokenized Sentences:\\n\", sentences)\n",
        "print(\"\\nTokenized Words:\\n\", words)\n"
      ],
      "metadata": {
        "colab": {
          "base_uri": "https://localhost:8080/"
        },
        "id": "x3Hq7zbURh3t",
        "outputId": "1ca13f07-d0fa-47d7-857a-e8da75430acf"
      },
      "execution_count": 7,
      "outputs": [
        {
          "output_type": "stream",
          "name": "stdout",
          "text": [
            "\n",
            "Tokenized Sentences:\n",
            " ['elon musk the ceo of tesla and spacex visited india in march to explore investment opportunities during his trip he met with prime minister narendra modi to discuss potential collaborations in clean energy and satellite technology']\n",
            "\n",
            "Tokenized Words:\n",
            " ['elon', 'musk', 'the', 'ceo', 'of', 'tesla', 'and', 'spacex', 'visited', 'india', 'in', 'march', 'to', 'explore', 'investment', 'opportunities', 'during', 'his', 'trip', 'he', 'met', 'with', 'prime', 'minister', 'narendra', 'modi', 'to', 'discuss', 'potential', 'collaborations', 'in', 'clean', 'energy', 'and', 'satellite', 'technology']\n"
          ]
        }
      ]
    },
    {
      "cell_type": "code",
      "source": [
        "stop_words = set(stopwords.words('english'))\n",
        "\n",
        "words_filtered = [w for w in words if w not in stop_words]\n",
        "\n",
        "print(\"\\nAfter Stopword Removal:\\n\", words_filtered)\n",
        "print(f\"\\nWord count before: {len(words)} | After: {len(words_filtered)}\")\n",
        "print(f\"Unique words before: {len(set(words))} | After: {len(set(words_filtered))}\")\n"
      ],
      "metadata": {
        "colab": {
          "base_uri": "https://localhost:8080/"
        },
        "id": "z0LTHWrUR6su",
        "outputId": "15023adc-600f-46bc-e0cc-898f084089de"
      },
      "execution_count": 8,
      "outputs": [
        {
          "output_type": "stream",
          "name": "stdout",
          "text": [
            "\n",
            "After Stopword Removal:\n",
            " ['elon', 'musk', 'ceo', 'tesla', 'spacex', 'visited', 'india', 'march', 'explore', 'investment', 'opportunities', 'trip', 'met', 'prime', 'minister', 'narendra', 'modi', 'discuss', 'potential', 'collaborations', 'clean', 'energy', 'satellite', 'technology']\n",
            "\n",
            "Word count before: 36 | After: 24\n",
            "Unique words before: 33 | After: 24\n"
          ]
        }
      ]
    },
    {
      "cell_type": "code",
      "source": [
        "stemmer = PorterStemmer()\n",
        "lemmatizer = WordNetLemmatizer()\n",
        "\n",
        "sample_words = words_filtered[:10]\n",
        "\n",
        "print(\"\\nOriginal | Stemmed | Lemmatized\")\n",
        "print(\"----------------------------------\")\n",
        "for word in sample_words:\n",
        "    print(f\"{word:<10} | {stemmer.stem(word):<10} | {lemmatizer.lemmatize(word)}\")\n"
      ],
      "metadata": {
        "colab": {
          "base_uri": "https://localhost:8080/"
        },
        "id": "-dC245akR9q9",
        "outputId": "cd6a1a14-c8fc-4ece-9a19-7ebb5ac22a38"
      },
      "execution_count": 9,
      "outputs": [
        {
          "output_type": "stream",
          "name": "stdout",
          "text": [
            "\n",
            "Original | Stemmed | Lemmatized\n",
            "----------------------------------\n",
            "elon       | elon       | elon\n",
            "musk       | musk       | musk\n",
            "ceo        | ceo        | ceo\n",
            "tesla      | tesla      | tesla\n",
            "spacex     | spacex     | spacex\n",
            "visited    | visit      | visited\n",
            "india      | india      | india\n",
            "march      | march      | march\n",
            "explore    | explor     | explore\n",
            "investment | invest     | investment\n"
          ]
        }
      ]
    },
    {
      "cell_type": "code",
      "source": [
        "# Add the download directory to NLTK's data path\n",
        "nltk.data.path.append('/content/nltk_data')\n",
        "\n",
        "pos_tags = nltk.pos_tag(words_filtered)\n",
        "\n",
        "# Count POS Tags\n",
        "tag_counts = Counter(tag for word, tag in pos_tags)\n",
        "\n",
        "# Display counts\n",
        "print(\"\\nPOS Tag Counts:\\n\", tag_counts)\n",
        "\n",
        "# Bar Plot\n",
        "plt.figure(figsize=(10, 5))\n",
        "plt.bar(tag_counts.keys(), tag_counts.values(), color='skyblue')\n",
        "plt.title(\"POS Tag Frequency\")\n",
        "plt.xlabel(\"POS Tag\")\n",
        "plt.ylabel(\"Frequency\")\n",
        "plt.xticks(rotation=45)\n",
        "plt.tight_layout()\n",
        "plt.show()"
      ],
      "metadata": {
        "colab": {
          "base_uri": "https://localhost:8080/",
          "height": 559
        },
        "id": "O2-WAGVkSBH_",
        "outputId": "12978088-ee15-4596-d1ff-00aad5d4b291"
      },
      "execution_count": 14,
      "outputs": [
        {
          "output_type": "stream",
          "name": "stdout",
          "text": [
            "\n",
            "POS Tag Counts:\n",
            " Counter({'NN': 15, 'JJ': 3, 'VBD': 2, 'NNS': 2, 'VBZ': 1, 'VBP': 1})\n"
          ]
        },
        {
          "output_type": "display_data",
          "data": {
            "text/plain": [
              "<Figure size 1000x500 with 1 Axes>"
            ],
            "image/png": "[encoded data removed]"
          },
          "metadata": {}
        }
      ]
    },
    {
      "cell_type": "code",
      "source": [
        "nlp = spacy.load(\"en_core_web_sm\")\n",
        "doc = nlp(text)\n",
        "\n",
        "print(\"\\nNamed Entities and Labels:\")\n",
        "for ent in doc.ents:\n",
        "    print(f\"{ent.text} → {ent.label_}\")\n",
        "\n",
        "# Visual NER\n",
        "displacy.render(doc, style=\"ent\", jupyter=True)\n"
      ],
      "metadata": {
        "colab": {
          "base_uri": "https://localhost:8080/",
          "height": 261
        },
        "id": "iGF01G8iSVP9",
        "outputId": "4a26871a-f66e-4cda-f04a-2a14b6bca4b5"
      },
      "execution_count": 15,
      "outputs": [
        {
          "output_type": "stream",
          "name": "stdout",
          "text": [
            "\n",
            "Named Entities and Labels:\n",
            "Elon Musk → PERSON\n",
            "Tesla → ORG\n",
            "SpaceX → PERSON\n",
            "India → GPE\n",
            "March 2025 → DATE\n",
            "Narendra Modi → PERSON\n"
          ]
        },
        {
          "output_type": "display_data",
          "data": {
            "text/plain": [
              "<IPython.core.display.HTML object>"
            ],
            "text/html": [
              "<span class=\"tex2jax_ignore\"><div class=\"entities\" style=\"line-height: 2.5; direction: ltr\"><br>\n",
              "<mark class=\"entity\" style=\"background: #aa9cfc; padding: 0.45em 0.6em; margin: 0 0.25em; line-height: 1; border-radius: 0.35em;\">\n",
              "    Elon Musk\n",
              "    <span style=\"font-size: 0.8em; font-weight: bold; line-height: 1; border-radius: 0.35em; vertical-align: middle; margin-left: 0.5rem\">PERSON</span>\n",
              "</mark>\n",
              ", the CEO of \n",
              "<mark class=\"entity\" style=\"background: #7aecec; padding: 0.45em 0.6em; margin: 0 0.25em; line-height: 1; border-radius: 0.35em;\">\n",
              "    Tesla\n",
              "    <span style=\"font-size: 0.8em; font-weight: bold; line-height: 1; border-radius: 0.35em; vertical-align: middle; margin-left: 0.5rem\">ORG</span>\n",
              "</mark>\n",
              " and \n",
              "<mark class=\"entity\" style=\"background: #aa9cfc; padding: 0.45em 0.6em; margin: 0 0.25em; line-height: 1; border-radius: 0.35em;\">\n",
              "    SpaceX\n",
              "    <span style=\"font-size: 0.8em; font-weight: bold; line-height: 1; border-radius: 0.35em; vertical-align: middle; margin-left: 0.5rem\">PERSON</span>\n",
              "</mark>\n",
              ", visited \n",
              "<mark class=\"entity\" style=\"background: #feca74; padding: 0.45em 0.6em; margin: 0 0.25em; line-height: 1; border-radius: 0.35em;\">\n",
              "    India\n",
              "    <span style=\"font-size: 0.8em; font-weight: bold; line-height: 1; border-radius: 0.35em; vertical-align: middle; margin-left: 0.5rem\">GPE</span>\n",
              "</mark>\n",
              " in \n",
              "<mark class=\"entity\" style=\"background: #bfe1d9; padding: 0.45em 0.6em; margin: 0 0.25em; line-height: 1; border-radius: 0.35em;\">\n",
              "    March 2025\n",
              "    <span style=\"font-size: 0.8em; font-weight: bold; line-height: 1; border-radius: 0.35em; vertical-align: middle; margin-left: 0.5rem\">DATE</span>\n",
              "</mark>\n",
              " to explore investment opportunities.<br>During his trip, he met with Prime Minister \n",
              "<mark class=\"entity\" style=\"background: #aa9cfc; padding: 0.45em 0.6em; margin: 0 0.25em; line-height: 1; border-radius: 0.35em;\">\n",
              "    Narendra Modi\n",
              "    <span style=\"font-size: 0.8em; font-weight: bold; line-height: 1; border-radius: 0.35em; vertical-align: middle; margin-left: 0.5rem\">PERSON</span>\n",
              "</mark>\n",
              " to discuss potential collaborations in clean energy and satellite technology.<br></div></span>"
            ]
          },
          "metadata": {}
        }
      ]
    }
  ]
}