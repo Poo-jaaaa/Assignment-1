{
  "nbformat": 4,
  "nbformat_minor": 0,
  "metadata": {
    "colab": {
      "provenance": []
    },
    "kernelspec": {
      "name": "python3",
      "display_name": "Python 3"
    },
    "language_info": {
      "name": "python"
    }
  },
  "cells": [
    {
      "cell_type": "code",
      "execution_count": 14,
      "metadata": {
        "id": "YkZvmxU087ja"
      },
      "outputs": [],
      "source": [
        "# Road Trip Planner\n",
        "\n",
        "# Given values\n",
        "distance = 475\n",
        "efficiency = 11.5\n",
        "fuel_price = 1.65\n",
        "tank_capacity = 50"
      ]
    },
    {
      "cell_type": "code",
      "source": [
        "# a. Calculate total fuel needed\n",
        "fuel_needed = distance / efficiency\n",
        "print(f\" Fuel needed: {fuel_needed} liters\")"
      ],
      "metadata": {
        "colab": {
          "base_uri": "https://localhost:8080/"
        },
        "id": "jjKODWGK_NFF",
        "outputId": "7e8bea49-b88d-4bd8-8191-b77b4d28b18d"
      },
      "execution_count": 25,
      "outputs": [
        {
          "output_type": "stream",
          "name": "stdout",
          "text": [
            " Fuel needed: 41.30434782608695 liters\n"
          ]
        }
      ]
    },
    {
      "cell_type": "markdown",
      "source": [
        "To find how many liters of fuel needed we have to divide the total distance by car efficiency."
      ],
      "metadata": {
        "id": "lzkeYc57Adnl"
      }
    },
    {
      "cell_type": "code",
      "source": [
        "# b. Full tanks required (whole number)\n",
        "full_tanks = fuel_needed // tank_capacity\n",
        "print(f\" Full tanks needed: {int(full_tanks)}\")"
      ],
      "metadata": {
        "colab": {
          "base_uri": "https://localhost:8080/"
        },
        "id": "MllCHYI9_m2g",
        "outputId": "438ba1e2-256d-4967-c6ca-ff1dbd3209da"
      },
      "execution_count": 33,
      "outputs": [
        {
          "output_type": "stream",
          "name": "stdout",
          "text": [
            " Full tanks needed: 0\n"
          ]
        }
      ]
    },
    {
      "cell_type": "markdown",
      "source": [
        "// operators gives the whole number times the tank capacity fits into the fuel needed."
      ],
      "metadata": {
        "id": "EFgXPvFLA0Cg"
      }
    },
    {
      "cell_type": "code",
      "source": [
        "# c. Total fuel cost\n",
        "total_cost = fuel_needed * fuel_price\n",
        "print(f\" Total fuel cost:${total_cost:} \")"
      ],
      "metadata": {
        "colab": {
          "base_uri": "https://localhost:8080/"
        },
        "id": "Itgmk9pz_qTY",
        "outputId": "31aede0f-424a-411a-d467-c8aec39cf5ef"
      },
      "execution_count": 28,
      "outputs": [
        {
          "output_type": "stream",
          "name": "stdout",
          "text": [
            " Total fuel cost:$68.15217391304347 \n"
          ]
        }
      ]
    },
    {
      "cell_type": "markdown",
      "source": [
        "Total cost is calculated by multiplying the fuel needed by the price per liter."
      ],
      "metadata": {
        "id": "c_Rst7KYBDJF"
      }
    },
    {
      "cell_type": "code",
      "source": [
        "# d. Remaining fuel in tank after trip\n",
        "fuel_remaining = tank_capacity - fuel_needed\n",
        "print(f\" Fuel remaining: {fuel_remaining:} liters\")"
      ],
      "metadata": {
        "colab": {
          "base_uri": "https://localhost:8080/"
        },
        "id": "6dRNT59C_v2n",
        "outputId": "bdbdaf2a-ec4b-45e9-e1d1-295ae529f696"
      },
      "execution_count": 34,
      "outputs": [
        {
          "output_type": "stream",
          "name": "stdout",
          "text": [
            " Fuel remaining: 8.695652173913047 liters\n"
          ]
        }
      ]
    },
    {
      "cell_type": "markdown",
      "source": [
        "If you start with a full 50-liter tank and use 41.30 liters,\n",
        "then the remaining fuel is: full tank - use liters."
      ],
      "metadata": {
        "id": "PyWM8SgtBRvl"
      }
    },
    {
      "cell_type": "code",
      "source": [
        "# Theme Party Entry Rules\n"
      ],
      "metadata": {
        "id": "S3_-MZJXBRL6"
      },
      "execution_count": 37,
      "outputs": []
    },
    {
      "cell_type": "code",
      "source": [
        "#a. Given\n",
        "age = 30\n",
        "is_weekday = True\n",
        "is_family_day = False\n",
        "group_size = 3\n",
        "\n",
        "# Boolean expression for discount eligibility\n",
        "discount = (age <= 12 and is_weekday) or (age >= 65) or (is_family_day and group_size >= 4)\n",
        "\n",
        "print(\"Eligible for discount:\", discount)"
      ],
      "metadata": {
        "colab": {
          "base_uri": "https://localhost:8080/"
        },
        "id": "pAXTKDdmFG62",
        "outputId": "d01108d7-a536-494c-adb0-1080e03206cc"
      },
      "execution_count": 42,
      "outputs": [
        {
          "output_type": "stream",
          "name": "stdout",
          "text": [
            "Eligible for discount: False\n"
          ]
        }
      ]
    },
    {
      "cell_type": "code",
      "source": [
        "#b. Given\n",
        "age = 10\n",
        "is_weekday = True\n",
        "is_family_day = False\n",
        "group_size = 2\n",
        "\n",
        "# Same boolean expression\n",
        "discount = (age <= 12 and is_weekday) or (age >= 65) or (is_family_day and group_size >= 4)\n",
        "\n",
        "print(\"Eligible for discount:\", discount)"
      ],
      "metadata": {
        "colab": {
          "base_uri": "https://localhost:8080/"
        },
        "id": "qyEMnHqaHXU3",
        "outputId": "a0ef67d5-15e9-414e-fbdd-695b4187df9b"
      },
      "execution_count": 44,
      "outputs": [
        {
          "output_type": "stream",
          "name": "stdout",
          "text": [
            "Eligible for discount: True\n"
          ]
        }
      ]
    },
    {
      "cell_type": "code",
      "source": [
        "# c: Explanation of Boolean Expression Evaluation\n",
        "\n",
        "# Updated values for Part b\n",
        "age = 10\n",
        "is_weekday = True\n",
        "is_family_day = False\n",
        "group_size = 2\n",
        "\n",
        "# Boolean expression for discount eligibility\n",
        "discount = ((age <= 12 and is_weekday) or\n",
        "                 (age >= 65) or\n",
        "                 (is_family_day and group_size >= 4))\n",
        "\n",
        "# Print out the evaluation result\n",
        "print(f\" Result (age=10, weekday=True): {discount}\")\n"
      ],
      "metadata": {
        "colab": {
          "base_uri": "https://localhost:8080/"
        },
        "id": "_iost6SCHeGC",
        "outputId": "745ab420-8243-4b56-81e7-fdb61671e0ea"
      },
      "execution_count": 52,
      "outputs": [
        {
          "output_type": "stream",
          "name": "stdout",
          "text": [
            " Result (age=10, weekday=True): True\n"
          ]
        }
      ]
    },
    {
      "cell_type": "code",
      "source": [
        "# Message Decoder\n",
        "\n",
        "# Given\n",
        "secret_message = \"PyThoN_Is_FuN_AnD_PoWeRfUl!\""
      ],
      "metadata": {
        "id": "pwj8PCvmH7pE"
      },
      "execution_count": 53,
      "outputs": []
    },
    {
      "cell_type": "code",
      "source": [
        "#a. character at index 5\n",
        "secret_message = \"PyThoN_Is_FuN_AnD_PoWeRfUl!\"\n",
        "char_at_ind_5 = secret_message[5]\n",
        "print(\"Character at index 5:\", char_at_ind_5)"
      ],
      "metadata": {
        "colab": {
          "base_uri": "https://localhost:8080/"
        },
        "id": "f-XnKcYEJhNR",
        "outputId": "bbfb9068-5a4a-452a-aac0-d4fdc9e4206f"
      },
      "execution_count": 61,
      "outputs": [
        {
          "output_type": "stream",
          "name": "stdout",
          "text": [
            "Character at index 5: N\n"
          ]
        }
      ]
    },
    {
      "cell_type": "markdown",
      "source": [
        "Python string indexing starts at 0.\n",
        "\n",
        "Index 5 corresponds to the 6th character.\n",
        "\n",
        "Counting from 0: P(0), y(1), T(2), h(3), o(4), N(5)\n",
        "\n",
        "So, the character at index 5 is \"N\"."
      ],
      "metadata": {
        "id": "poPK7DSMLUER"
      }
    },
    {
      "cell_type": "code",
      "source": [
        "#b. Positive indexing and slicing\n",
        "substring_positive = secret_message[7:13]\n",
        "print(\" substring using positive indexing:\", substring_positive)"
      ],
      "metadata": {
        "colab": {
          "base_uri": "https://localhost:8080/"
        },
        "id": "VCvBSB22Jmd9",
        "outputId": "1c0aeaf6-127c-4b6f-d545-2bc6cf8b0207"
      },
      "execution_count": 65,
      "outputs": [
        {
          "output_type": "stream",
          "name": "stdout",
          "text": [
            " substring using positive indexing: Is_FuN\n"
          ]
        }
      ]
    },
    {
      "cell_type": "markdown",
      "source": [
        "The substring \"Is_FuN\" starts at index 7 and goes up to index 12. So, secret_message[7:13] extracts characters at indexes 7, 8, 9, 10, 11, and 12.\n",
        "\n"
      ],
      "metadata": {
        "id": "15BlzL74MESj"
      }
    },
    {
      "cell_type": "code",
      "source": [
        "#c. Negative Indexing and Slicing\n",
        "substring_negative = secret_message[-9:-1]\n",
        "print(\"substring using negative indexing:\", substring_negative)"
      ],
      "metadata": {
        "colab": {
          "base_uri": "https://localhost:8080/"
        },
        "id": "JFish-YxMPHo",
        "outputId": "4f2b7a92-7cb2-4b3b-e864-0ba7f7b3d35c"
      },
      "execution_count": 71,
      "outputs": [
        {
          "output_type": "stream",
          "name": "stdout",
          "text": [
            "substring using negative indexing: PoWeRfUl\n"
          ]
        }
      ]
    },
    {
      "cell_type": "markdown",
      "source": [
        "Negative indexing counts from the end starting at -1.Secret_message[-9:-1] slices from the 9th last character up to (but not including) the last character.The last character is '!' at index -1, so it is excluded."
      ],
      "metadata": {
        "id": "0drkPF2OMqJ1"
      }
    },
    {
      "cell_type": "code",
      "source": [
        "#d. crete a new string\n",
        "every_4th_char = secret_message[0::4]\n",
        "print(\"Every 4th character starting at index 0:\", every_4th_char)"
      ],
      "metadata": {
        "colab": {
          "base_uri": "https://localhost:8080/"
        },
        "id": "AUbaEVWzMl1N",
        "outputId": "95fd7bf0-3141-41d0-9f10-09453bdd9a4c"
      },
      "execution_count": 72,
      "outputs": [
        {
          "output_type": "stream",
          "name": "stdout",
          "text": [
            "Every 4th character starting at index 0: PosNDWU\n"
          ]
        }
      ]
    },
    {
      "cell_type": "markdown",
      "source": [
        "Here, start=0, step=4 means every 4th character starting at index 0.This extracts characters at indexes 0, 4, 8, 12, 16, 20, 24."
      ],
      "metadata": {
        "id": "C1eveyAMNhaJ"
      }
    },
    {
      "cell_type": "code",
      "source": [
        "# Predict and Verify\n",
        "\n",
        "# Given\n",
        "x = 15\n",
        "y = 25\n",
        "z = 15\n",
        "text = \"adventure\"\n"
      ],
      "metadata": {
        "id": "EbAu5a1SN-hd"
      },
      "execution_count": 92,
      "outputs": []
    },
    {
      "cell_type": "code",
      "source": [
        "# a. (x == z) and (y > x)\n",
        "result_a = (x == z) and (y > x)\n",
        "print(\"Result of (x == z) and (y > x):\", result_a)"
      ],
      "metadata": {
        "colab": {
          "base_uri": "https://localhost:8080/"
        },
        "id": "bFCYFFh5OKwu",
        "outputId": "2e5afcca-3565-4462-a7ad-511b34a8abf2"
      },
      "execution_count": 94,
      "outputs": [
        {
          "output_type": "stream",
          "name": "stdout",
          "text": [
            "Result of (x == z) and (y > x): True\n"
          ]
        }
      ]
    },
    {
      "cell_type": "markdown",
      "source": [
        "Prediction was correct. Both conditions are True, so the overall result is True."
      ],
      "metadata": {
        "id": "88LIF7gVQ9IV"
      }
    },
    {
      "cell_type": "code",
      "source": [
        "# b. (x != z) or (y < x) or (len(text) < 5)\n",
        "result_b = (x != z) or (y < x) or (len(text) < 5)\n",
        "print(\"b. (x != z) or (y < x) or (len(text) < 5):\", result_b)"
      ],
      "metadata": {
        "colab": {
          "base_uri": "https://localhost:8080/"
        },
        "id": "9P0LX9AnQjVX",
        "outputId": "7f4e4af9-6e07-4aee-b466-4c47082d2130"
      },
      "execution_count": 95,
      "outputs": [
        {
          "output_type": "stream",
          "name": "stdout",
          "text": [
            "b. (x != z) or (y < x) or (len(text) < 5): False\n"
          ]
        }
      ]
    },
    {
      "cell_type": "markdown",
      "source": [
        "Prediction was correct. None of the conditions are True, so the entire OR expression is False.\n",
        "\n"
      ],
      "metadata": {
        "id": "IBMG89RKRK3S"
      }
    },
    {
      "cell_type": "code",
      "source": [
        "# c. not ((x > y) and (text == \"Adventure\"))\n",
        "result_c = not ((x > y) and (text == \"Adventure\"))\n",
        "print('c. not ((x > y) and (text == \"Adventure\")):', result_c)  # Expected: True"
      ],
      "metadata": {
        "colab": {
          "base_uri": "https://localhost:8080/"
        },
        "id": "1HGU8Y9NRbGU",
        "outputId": "dc0725ff-a0a5-4b77-d88f-c91e99f9cda7"
      },
      "execution_count": 96,
      "outputs": [
        {
          "output_type": "stream",
          "name": "stdout",
          "text": [
            "c. not ((x > y) and (text == \"Adventure\")): True\n"
          ]
        }
      ]
    },
    {
      "cell_type": "markdown",
      "source": [
        "Prediction was correct. Even though both inner conditions are False, not(not False) makes it, resulting in True.\n",
        "\n"
      ],
      "metadata": {
        "id": "haq1MoKQRc7B"
      }
    },
    {
      "cell_type": "code",
      "source": [
        "#User Profile Setup"
      ],
      "metadata": {
        "id": "be00wkJxR2zC"
      },
      "execution_count": 99,
      "outputs": []
    },
    {
      "cell_type": "code",
      "source": [
        "username = \"MyUser123\"\n",
        "try:\n",
        "    username[0] = 'm'\n",
        "except TypeError as e:\n",
        "    print(\" Error when modifying string:\", e)"
      ],
      "metadata": {
        "colab": {
          "base_uri": "https://localhost:8080/"
        },
        "id": "PD4AfPT4SgWL",
        "outputId": "e2db2cdf-5813-45b2-b2ca-68c11d82f0b2"
      },
      "execution_count": 113,
      "outputs": [
        {
          "output_type": "stream",
          "name": "stdout",
          "text": [
            " Error when modifying string: 'str' object does not support item assignment\n"
          ]
        }
      ]
    },
    {
      "cell_type": "markdown",
      "source": [
        "In strings, character cannot be changed once a string is created. You have to create a new string if you want to modify it."
      ],
      "metadata": {
        "id": "mHU8NgBBUme-"
      }
    },
    {
      "cell_type": "code",
      "source": [
        "# b. Transform the quote step by step\n",
        "quote = \" practice makes perfect \"\n",
        "\n",
        "# 1: Remove whitespace\n",
        "quote = quote.strip()\n",
        "\n",
        "# 2: Convert to uppercase\n",
        "quote = quote.upper()\n",
        "\n",
        "# 3: Replace \"PERFECT\" with \"PROGRESS\"\n",
        "formatted_quote = quote.replace(\"PERFECT\", \"PROGRESS\")\n",
        "\n",
        "print(\" Formatted quote:\", formatted_quote)\n"
      ],
      "metadata": {
        "colab": {
          "base_uri": "https://localhost:8080/"
        },
        "id": "sscloJlUTPo7",
        "outputId": "71ebc498-3f42-48e2-8142-1d252d2a514f"
      },
      "execution_count": 109,
      "outputs": [
        {
          "output_type": "stream",
          "name": "stdout",
          "text": [
            " Formatted quote: PRACTICE MAKES PROGRESS\n"
          ]
        }
      ]
    },
    {
      "cell_type": "markdown",
      "source": [
        ".strip() - Removes whitespace from the start and end of the string.\n",
        "\n",
        ".upper() - Converts all characters to uppercase.\n",
        "\n",
        ".replace(\"PERFECT\", \"PROGRESS\") - Replaces a substring with another.\n",
        "\n"
      ],
      "metadata": {
        "id": "VmhzL9ZkTzPy"
      }
    },
    {
      "cell_type": "code",
      "source": [
        "# c. Lengths of original and formatted quote\n",
        "original_quote = \" practice makes perfect \"\n",
        "original_length = len(original_quote)\n",
        "formatted_length = len(formatted_quote)\n",
        "\n",
        "print(\" Original length:\", original_length)\n",
        "print(\" Formatted length:\", formatted_length)"
      ],
      "metadata": {
        "colab": {
          "base_uri": "https://localhost:8080/"
        },
        "id": "Rw4ZVnjzTaUJ",
        "outputId": "e2dbb12a-e322-4e4d-a438-2e2e761e7047"
      },
      "execution_count": 110,
      "outputs": [
        {
          "output_type": "stream",
          "name": "stdout",
          "text": [
            " Original length: 24\n",
            " Formatted length: 23\n"
          ]
        }
      ]
    },
    {
      "cell_type": "markdown",
      "source": [
        "len() returns the number of characters including spaces.The original quote had extra spaces; after stripping and replacing, the total character count changed slightly."
      ],
      "metadata": {
        "id": "Ey5-ZmtWTlOQ"
      }
    }
  ]
}